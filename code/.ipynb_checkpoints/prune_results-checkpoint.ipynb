{
 "cells": [
  {
   "cell_type": "code",
   "execution_count": 3,
   "metadata": {
    "collapsed": true
   },
   "outputs": [],
   "source": [
    "# Main imports\n",
    "import numpy as np\n",
    "import pandas as pd\n",
    "\n",
    "# Import matplotlib and such\n",
    "import matplotlib as mpl\n",
    "import matplotlib.pyplot as plt\n",
    "import matplotlib.gridspec as gridspec\n",
    "%matplotlib inline\n",
    "plt.ion()\n",
    "\n",
    "from helper_functions import \\\n",
    "    thermodynamic_model, \\\n",
    "    plot_manifold_model, \\\n",
    "    plot_manifold_measurements, \\\n",
    "    get_measurement_subset_df\n",
    "    "
   ]
  },
  {
   "cell_type": "code",
   "execution_count": 4,
   "metadata": {
    "collapsed": true
   },
   "outputs": [],
   "source": [
    "# Set global styles\n",
    "textwidth=5.5\n",
    "halfcolwidth=3\n",
    "fontsize=8\n",
    "titlesize=10\n",
    "panel_label_size=12\n",
    "legend_fontsize=7\n",
    "markersize=5\n",
    "mpl.rcParams['font.size'] = fontsize\n",
    "mpl.rcParams['text.usetex'] = False\n",
    "\n",
    "# Get default colors\n",
    "prop_cycle = plt.rcParams['axes.prop_cycle']\n",
    "colors = prop_cycle.by_key()['color']\n",
    "color10 = colors[1]\n",
    "color35 = np.array([.99, .50, .16])*.7"
   ]
  },
  {
   "cell_type": "code",
   "execution_count": 6,
   "metadata": {},
   "outputs": [
    {
     "data": {
      "text/html": [
       "<div>\n",
       "<style scoped>\n",
       "    .dataframe tbody tr th:only-of-type {\n",
       "        vertical-align: middle;\n",
       "    }\n",
       "\n",
       "    .dataframe tbody tr th {\n",
       "        vertical-align: top;\n",
       "    }\n",
       "\n",
       "    .dataframe thead th {\n",
       "        text-align: right;\n",
       "    }\n",
       "</style>\n",
       "<table border=\"1\" class=\"dataframe\">\n",
       "  <thead>\n",
       "    <tr style=\"text-align: right;\">\n",
       "      <th></th>\n",
       "      <th>name</th>\n",
       "      <th>log_t+</th>\n",
       "      <th>dlog_t+</th>\n",
       "      <th>log_t-</th>\n",
       "      <th>dlog_t-</th>\n",
       "      <th>num_t+</th>\n",
       "      <th>num_t-</th>\n",
       "      <th>outlier</th>\n",
       "      <th>spacing</th>\n",
       "      <th>sequence</th>\n",
       "    </tr>\n",
       "    <tr>\n",
       "      <th>location</th>\n",
       "      <th></th>\n",
       "      <th></th>\n",
       "      <th></th>\n",
       "      <th></th>\n",
       "      <th></th>\n",
       "      <th></th>\n",
       "      <th></th>\n",
       "      <th></th>\n",
       "      <th></th>\n",
       "      <th></th>\n",
       "    </tr>\n",
       "  </thead>\n",
       "  <tbody>\n",
       "    <tr>\n",
       "      <th>b3C9</th>\n",
       "      <td>60c-r18</td>\n",
       "      <td>-1.564814</td>\n",
       "      <td>0.302713</td>\n",
       "      <td>-1.797453</td>\n",
       "      <td>0.122828</td>\n",
       "      <td>5</td>\n",
       "      <td>6</td>\n",
       "      <td>0.0</td>\n",
       "      <td>NaN</td>\n",
       "      <td>CGCAATGAATCACTCCATTGAGTGTTTTGAGGGTCCCAGGCTTTAC...</td>\n",
       "    </tr>\n",
       "    <tr>\n",
       "      <th>b5E2</th>\n",
       "      <td>61c-oc-2</td>\n",
       "      <td>-5.308959</td>\n",
       "      <td>0.114674</td>\n",
       "      <td>-3.535456</td>\n",
       "      <td>0.081788</td>\n",
       "      <td>3</td>\n",
       "      <td>6</td>\n",
       "      <td>NaN</td>\n",
       "      <td>-2.5</td>\n",
       "      <td>CGCAATGAATCACTCCATTGAGTGTTTTGAGGGTCCCCAGGCTTTA...</td>\n",
       "    </tr>\n",
       "    <tr>\n",
       "      <th>b5E1</th>\n",
       "      <td>61c-oc-2</td>\n",
       "      <td>-7.081135</td>\n",
       "      <td>0.270409</td>\n",
       "      <td>-3.405931</td>\n",
       "      <td>0.205113</td>\n",
       "      <td>3</td>\n",
       "      <td>6</td>\n",
       "      <td>NaN</td>\n",
       "      <td>-2.5</td>\n",
       "      <td>CGCAATGAATCACTCCATTGAGTGTTTTGAGGGTCCCCAGGCTTTA...</td>\n",
       "    </tr>\n",
       "    <tr>\n",
       "      <th>b5E4</th>\n",
       "      <td>61c-oc0</td>\n",
       "      <td>-1.691993</td>\n",
       "      <td>0.146085</td>\n",
       "      <td>1.357366</td>\n",
       "      <td>0.088154</td>\n",
       "      <td>6</td>\n",
       "      <td>6</td>\n",
       "      <td>0.0</td>\n",
       "      <td>0.5</td>\n",
       "      <td>CGCAATGAATCACTCCATTGAGTGTTTTGAGGGTCCCCAGGCTTTA...</td>\n",
       "    </tr>\n",
       "    <tr>\n",
       "      <th>b5E6</th>\n",
       "      <td>61c-oc1</td>\n",
       "      <td>-6.037679</td>\n",
       "      <td>0.137889</td>\n",
       "      <td>-4.261830</td>\n",
       "      <td>0.591296</td>\n",
       "      <td>3</td>\n",
       "      <td>5</td>\n",
       "      <td>NaN</td>\n",
       "      <td>1.5</td>\n",
       "      <td>CGCAATGAATCACTCCATTGAGTGTTTTGAGGGTCCCCAGGCTTTA...</td>\n",
       "    </tr>\n",
       "  </tbody>\n",
       "</table>\n",
       "</div>"
      ],
      "text/plain": [
       "              name    log_t+   dlog_t+    log_t-   dlog_t-  num_t+  num_t-  \\\n",
       "location                                                                     \n",
       "b3C9       60c-r18 -1.564814  0.302713 -1.797453  0.122828       5       6   \n",
       "b5E2      61c-oc-2 -5.308959  0.114674 -3.535456  0.081788       3       6   \n",
       "b5E1      61c-oc-2 -7.081135  0.270409 -3.405931  0.205113       3       6   \n",
       "b5E4       61c-oc0 -1.691993  0.146085  1.357366  0.088154       6       6   \n",
       "b5E6       61c-oc1 -6.037679  0.137889 -4.261830  0.591296       3       5   \n",
       "\n",
       "          outlier  spacing                                           sequence  \n",
       "location                                                                       \n",
       "b3C9          0.0      NaN  CGCAATGAATCACTCCATTGAGTGTTTTGAGGGTCCCAGGCTTTAC...  \n",
       "b5E2          NaN     -2.5  CGCAATGAATCACTCCATTGAGTGTTTTGAGGGTCCCCAGGCTTTA...  \n",
       "b5E1          NaN     -2.5  CGCAATGAATCACTCCATTGAGTGTTTTGAGGGTCCCCAGGCTTTA...  \n",
       "b5E4          0.0      0.5  CGCAATGAATCACTCCATTGAGTGTTTTGAGGGTCCCCAGGCTTTA...  \n",
       "b5E6          NaN      1.5  CGCAATGAATCACTCCATTGAGTGTTTTGAGGGTCCCCAGGCTTTA...  "
      ]
     },
     "execution_count": 6,
     "metadata": {},
     "output_type": "execute_result"
    }
   ],
   "source": [
    "# Load clonal measurements \n",
    "data_df = pd.read_excel('../data/results.xlsx', sheet_name='measurements_summary').set_index('location')\n",
    "data_df.head()"
   ]
  },
  {
   "cell_type": "code",
   "execution_count": 20,
   "metadata": {},
   "outputs": [
    {
     "data": {
      "text/plain": [
       "663"
      ]
     },
     "execution_count": 20,
     "metadata": {},
     "output_type": "execute_result"
    }
   ],
   "source": [
    "all_locations = set(data_df.index)\n",
    "len(all_locations)"
   ]
  },
  {
   "cell_type": "code",
   "execution_count": 29,
   "metadata": {},
   "outputs": [
    {
     "data": {
      "text/plain": [
       "['b2E2',\n",
       " 'b2E4',\n",
       " 'b1B7',\n",
       " 'b9D5',\n",
       " 'b10G3',\n",
       " 'b2F4',\n",
       " 'b15A4',\n",
       " 'b15C4',\n",
       " 'b5G5',\n",
       " 'b5G7']"
      ]
     },
     "execution_count": 29,
     "metadata": {},
     "output_type": "execute_result"
    }
   ],
   "source": [
    "# Compile a list of promoter outliers\n",
    "outlier_indices = (data_df['outlier'] == True)\n",
    "outlier_locations = list(data_df.index[outlier_indices])\n",
    "outlier_locations"
   ]
  },
  {
   "cell_type": "code",
   "execution_count": 48,
   "metadata": {},
   "outputs": [
    {
     "data": {
      "text/plain": [
       "['b18C9',\n",
       " 'b18D2',\n",
       " 'b18D3',\n",
       " 'b18D5',\n",
       " 'b18D6',\n",
       " 'b18E1',\n",
       " 'b18E2',\n",
       " 'b18E3',\n",
       " 'b18E4',\n",
       " 'b18E5',\n",
       " 'b18E6',\n",
       " 'b18E7',\n",
       " 'b18E8',\n",
       " 'b18E9',\n",
       " 'b18F1',\n",
       " 'b1A7',\n",
       " 'b1A8',\n",
       " 'b1A7',\n",
       " 'b1A8',\n",
       " 'b1E3',\n",
       " 'b1E4',\n",
       " 'b1E5',\n",
       " 'b1E7',\n",
       " 'b1E8',\n",
       " 'b1F1',\n",
       " 'b1F2',\n",
       " 'b1F3',\n",
       " 'b1F4',\n",
       " 'b1F5',\n",
       " 'b1F6',\n",
       " 'b1F7',\n",
       " 'b1F8',\n",
       " 'b1F9',\n",
       " 'b1G1',\n",
       " 'b1G2',\n",
       " 'b1G3',\n",
       " 'b1G4',\n",
       " 'b1G5',\n",
       " 'b1G6',\n",
       " 'b1G7',\n",
       " 'b1G8',\n",
       " 'b3A5',\n",
       " 'b3A7']"
      ]
     },
     "execution_count": 48,
     "metadata": {},
     "output_type": "execute_result"
    }
   ],
   "source": [
    "# CRP null promoters\n",
    "patterns = [\n",
    "    'r17\\.35L..\\.10cons',\n",
    "    'c-r17',\n",
    "    '61c-r18'\n",
    "]\n",
    "names = []\n",
    "\n",
    "\n",
    "# Complile a list of 61c- promoters\n",
    "import re\n",
    "for pattern in patterns:\n",
    "    names.extend([name for name in data_df['name'] if re.match(pattern,name)])\n",
    "\n",
    "tmp_df = data_df.copy()\n",
    "tmp_df.reset_index(inplace=True, drop=False)\n",
    "tmp_df.set_index('name', inplace=True)\n",
    "tmp_df.head()\n",
    "\n",
    "crp_null_locations = list(tmp_df['location'][names])\n",
    "crp_null_locations\n",
    "                 "
   ]
  },
  {
   "cell_type": "code",
   "execution_count": 30,
   "metadata": {},
   "outputs": [
    {
     "data": {
      "text/plain": [
       "['b14E3',\n",
       " 'b14E4',\n",
       " 'b14E5',\n",
       " 'b14E6',\n",
       " 'b14E8',\n",
       " 'b14E9',\n",
       " 'b14F1',\n",
       " 'b14F3',\n",
       " 'b14F4',\n",
       " 'b14G7',\n",
       " 'b14G8',\n",
       " 'b14G9',\n",
       " 'b14H1',\n",
       " 'b14H2',\n",
       " 'b14H3',\n",
       " 'b14H4',\n",
       " 'b14H5',\n",
       " 'b14H6',\n",
       " 'b14H7',\n",
       " 'b14H8',\n",
       " 'b15C6',\n",
       " 'b15C7',\n",
       " 'b15C8',\n",
       " 'b15C9',\n",
       " 'b15D1',\n",
       " 'b15D2',\n",
       " 'b15D3',\n",
       " 'b15D4',\n",
       " 'b15D5',\n",
       " 'b15D6',\n",
       " 'b12I1',\n",
       " 'b12I2',\n",
       " 'b12I3']"
      ]
     },
     "execution_count": 30,
     "metadata": {},
     "output_type": "execute_result"
    }
   ],
   "source": [
    "# Complile a list of c40 promoters\n",
    "c40_indices = ['c40' in name for name in data_df['name'] ]\n",
    "c40_locations = list(data_df.index[c40_indices])\n",
    "c40_locations"
   ]
  },
  {
   "cell_type": "code",
   "execution_count": 26,
   "metadata": {},
   "outputs": [
    {
     "name": "stdout",
     "output_type": "stream",
     "text": [
      "In sheet occlusion_resamp: 41 locations\n",
      "In sheet c61_resamp: 44 locations\n",
      "In sheet conjoined_resamp: 284 locations\n",
      "In sheet occlusion_resamp_2.5uM: 8 locations\n",
      "In sheet occlusion_resamp_5.0uM: 8 locations\n",
      "In sheet occlusion_resamp_10.0uM: 8 locations\n",
      "In sheet occlusion_resamp_25.0uM: 8 locations\n",
      "In sheet occlusion_resamp_50.0uM: 7 locations\n",
      "In sheet occlusion_resamp_125.0uM: 6 locations\n",
      "In sheet occlusion_resamp_250.0uM: 41 locations\n",
      "In sheet c60_beta_resamp: 21 locations\n",
      "In sheet c61_beta_resamp: 62 locations\n",
      "In sheet c62_beta_resamp: 23 locations\n",
      "In sheet c63_beta_resamp: 20 locations\n",
      "In sheet c64_beta_resamp: 17 locations\n",
      "In sheet c65_beta_resamp: 17 locations\n",
      "In sheet c71_beta_resamp: 35 locations\n",
      "In sheet c72_beta_resamp: 20 locations\n",
      "In sheet c81_beta_resamp: 32 locations\n",
      "In sheet c82_beta_resamp: 20 locations\n",
      "In sheet c41_beta_resamp: 21 locations\n",
      "Total resamp locations: 364\n"
     ]
    }
   ],
   "source": [
    "# Compile a list of all promoters used for model fitting\n",
    "xl = pd.ExcelFile('../data/results.xlsx',)\n",
    "resamp_sheets = [name for name in xl.sheet_names if 'resamp' in name] \n",
    "resamp_sheets\n",
    "\n",
    "# Load each sheet, then parse locations from names\n",
    "resamp_locations = []\n",
    "for sheet in resamp_sheets:\n",
    "    resamp_df = pd.read_excel('../data/results.xlsx', sheet_name=sheet)\n",
    "    locs = [col.split('_')[0] for col in resamp_df.columns if '_log_P' in col]\n",
    "    print('In sheet %s: %d locations'%(sheet,len(locs)))\n",
    "    resamp_locations.extend(locs)\n",
    "    \n",
    "# Make unique\n",
    "resamp_locations = list(set(resamp_locations))\n",
    "print('Total resamp locations: %d'%len(resamp_locations))"
   ]
  },
  {
   "cell_type": "code",
   "execution_count": 49,
   "metadata": {},
   "outputs": [
    {
     "name": "stdout",
     "output_type": "stream",
     "text": [
      "Total locations used: 448\n"
     ]
    }
   ],
   "source": [
    "# Gather all locations\n",
    "locations_used = list(set(outlier_locations + crp_null_locations + c40_locations + resamp_locations))\n",
    "print('Total locations used: %d'%len(locations_used))"
   ]
  },
  {
   "cell_type": "code",
   "execution_count": 56,
   "metadata": {},
   "outputs": [
    {
     "data": {
      "text/html": [
       "<div>\n",
       "<style scoped>\n",
       "    .dataframe tbody tr th:only-of-type {\n",
       "        vertical-align: middle;\n",
       "    }\n",
       "\n",
       "    .dataframe tbody tr th {\n",
       "        vertical-align: top;\n",
       "    }\n",
       "\n",
       "    .dataframe thead th {\n",
       "        text-align: right;\n",
       "    }\n",
       "</style>\n",
       "<table border=\"1\" class=\"dataframe\">\n",
       "  <thead>\n",
       "    <tr style=\"text-align: right;\">\n",
       "      <th></th>\n",
       "      <th>name</th>\n",
       "      <th>log_t+</th>\n",
       "      <th>dlog_t+</th>\n",
       "      <th>log_t-</th>\n",
       "      <th>dlog_t-</th>\n",
       "      <th>num_t+</th>\n",
       "      <th>num_t-</th>\n",
       "      <th>outlier</th>\n",
       "      <th>spacing</th>\n",
       "      <th>sequence</th>\n",
       "    </tr>\n",
       "    <tr>\n",
       "      <th>location</th>\n",
       "      <th></th>\n",
       "      <th></th>\n",
       "      <th></th>\n",
       "      <th></th>\n",
       "      <th></th>\n",
       "      <th></th>\n",
       "      <th></th>\n",
       "      <th></th>\n",
       "      <th></th>\n",
       "      <th></th>\n",
       "    </tr>\n",
       "  </thead>\n",
       "  <tbody>\n",
       "    <tr>\n",
       "      <th>b5E4</th>\n",
       "      <td>61c-oc0</td>\n",
       "      <td>-1.691993</td>\n",
       "      <td>0.146085</td>\n",
       "      <td>1.357366</td>\n",
       "      <td>0.088154</td>\n",
       "      <td>6</td>\n",
       "      <td>6</td>\n",
       "      <td>0.0</td>\n",
       "      <td>0.5</td>\n",
       "      <td>CGCAATGAATCACTCCATTGAGTGTTTTGAGGGTCCCCAGGCTTTA...</td>\n",
       "    </tr>\n",
       "    <tr>\n",
       "      <th>b5A8</th>\n",
       "      <td>61c-ocl</td>\n",
       "      <td>-4.955585</td>\n",
       "      <td>0.477209</td>\n",
       "      <td>-2.652523</td>\n",
       "      <td>0.185727</td>\n",
       "      <td>12</td>\n",
       "      <td>6</td>\n",
       "      <td>0.0</td>\n",
       "      <td>4.5</td>\n",
       "      <td>CGCAATGAATCACTCCATTGAGTGTTTTGAGGGTCCCCAGGCTTTA...</td>\n",
       "    </tr>\n",
       "    <tr>\n",
       "      <th>b5B2</th>\n",
       "      <td>61c-ocl.35L01</td>\n",
       "      <td>-5.426847</td>\n",
       "      <td>1.395136</td>\n",
       "      <td>-3.139291</td>\n",
       "      <td>0.053276</td>\n",
       "      <td>15</td>\n",
       "      <td>9</td>\n",
       "      <td>0.0</td>\n",
       "      <td>4.5</td>\n",
       "      <td>CGCAATGAATCACTCCATTGAGTGTTTTGAGGGTCCCCAGGGTTTA...</td>\n",
       "    </tr>\n",
       "    <tr>\n",
       "      <th>b5B3</th>\n",
       "      <td>61c-ocl.35L02</td>\n",
       "      <td>-5.057494</td>\n",
       "      <td>1.232833</td>\n",
       "      <td>-2.840256</td>\n",
       "      <td>0.373761</td>\n",
       "      <td>15</td>\n",
       "      <td>9</td>\n",
       "      <td>0.0</td>\n",
       "      <td>4.5</td>\n",
       "      <td>CGCAATGAATCACTCCATTGAGTGTTTTGAGGGTCCCCAGGCTTTA...</td>\n",
       "    </tr>\n",
       "    <tr>\n",
       "      <th>b5B5</th>\n",
       "      <td>61c-ocl.35L04</td>\n",
       "      <td>-4.600446</td>\n",
       "      <td>0.550925</td>\n",
       "      <td>-4.516905</td>\n",
       "      <td>0.056885</td>\n",
       "      <td>14</td>\n",
       "      <td>6</td>\n",
       "      <td>0.0</td>\n",
       "      <td>4.5</td>\n",
       "      <td>CGCAATGAATCACTCCATTGAGTGTTTTGAGGGTCCCCACCCTTAA...</td>\n",
       "    </tr>\n",
       "  </tbody>\n",
       "</table>\n",
       "</div>"
      ],
      "text/plain": [
       "                   name    log_t+   dlog_t+    log_t-   dlog_t-  num_t+  \\\n",
       "location                                                                  \n",
       "b5E4            61c-oc0 -1.691993  0.146085  1.357366  0.088154       6   \n",
       "b5A8            61c-ocl -4.955585  0.477209 -2.652523  0.185727      12   \n",
       "b5B2      61c-ocl.35L01 -5.426847  1.395136 -3.139291  0.053276      15   \n",
       "b5B3      61c-ocl.35L02 -5.057494  1.232833 -2.840256  0.373761      15   \n",
       "b5B5      61c-ocl.35L04 -4.600446  0.550925 -4.516905  0.056885      14   \n",
       "\n",
       "          num_t-  outlier  spacing  \\\n",
       "location                             \n",
       "b5E4           6      0.0      0.5   \n",
       "b5A8           6      0.0      4.5   \n",
       "b5B2           9      0.0      4.5   \n",
       "b5B3           9      0.0      4.5   \n",
       "b5B5           6      0.0      4.5   \n",
       "\n",
       "                                                   sequence  \n",
       "location                                                     \n",
       "b5E4      CGCAATGAATCACTCCATTGAGTGTTTTGAGGGTCCCCAGGCTTTA...  \n",
       "b5A8      CGCAATGAATCACTCCATTGAGTGTTTTGAGGGTCCCCAGGCTTTA...  \n",
       "b5B2      CGCAATGAATCACTCCATTGAGTGTTTTGAGGGTCCCCAGGGTTTA...  \n",
       "b5B3      CGCAATGAATCACTCCATTGAGTGTTTTGAGGGTCCCCAGGCTTTA...  \n",
       "b5B5      CGCAATGAATCACTCCATTGAGTGTTTTGAGGGTCCCCACCCTTAA...  "
      ]
     },
     "execution_count": 56,
     "metadata": {},
     "output_type": "execute_result"
    }
   ],
   "source": [
    "pruned_df = data_df.copy()\n",
    "pruned_df = pruned_df.loc[locations_used,:]\n",
    "pruned_df.sort_values(by='name', inplace=True)\n",
    "pruned_df.head()"
   ]
  },
  {
   "cell_type": "code",
   "execution_count": 60,
   "metadata": {},
   "outputs": [
    {
     "data": {
      "text/plain": [
       "448"
      ]
     },
     "execution_count": 60,
     "metadata": {},
     "output_type": "execute_result"
    }
   ],
   "source": [
    "len(pruned_df)"
   ]
  },
  {
   "cell_type": "code",
   "execution_count": 62,
   "metadata": {},
   "outputs": [],
   "source": [
    "# Save pruned measurements\n",
    "writer = pd.ExcelWriter('../data/pruned_results.xlsx')\n",
    "pruned_df.to_excel(writer,'pruned_measurements_summary')\n",
    "writer.save()"
   ]
  }
 ],
 "metadata": {
  "kernelspec": {
   "display_name": "anaconda_kernel",
   "language": "python",
   "name": "anaconda_kernel"
  },
  "language_info": {
   "codemirror_mode": {
    "name": "ipython",
    "version": 3
   },
   "file_extension": ".py",
   "mimetype": "text/x-python",
   "name": "python",
   "nbconvert_exporter": "python",
   "pygments_lexer": "ipython3",
   "version": "3.6.3"
  }
 },
 "nbformat": 4,
 "nbformat_minor": 2
}
