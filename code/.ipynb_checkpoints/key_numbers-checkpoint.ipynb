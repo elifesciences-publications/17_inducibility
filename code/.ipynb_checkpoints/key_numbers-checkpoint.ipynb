{
 "cells": [
  {
   "cell_type": "code",
   "execution_count": 1,
   "metadata": {
    "collapsed": true
   },
   "outputs": [],
   "source": [
    "# Main imports\n",
    "import numpy as np\n",
    "import pandas as pd\n"
   ]
  },
  {
   "cell_type": "code",
   "execution_count": 8,
   "metadata": {},
   "outputs": [
    {
     "name": "stdout",
     "output_type": "stream",
     "text": [
      "Number of promoters assayed: 448\n",
      "Number of outliers: 10\n"
     ]
    }
   ],
   "source": [
    "# Promoters assayed for the results in this paper\n",
    "data_df = pd.read_excel('../data/results.xlsx', sheet_name='measurements_summary').set_index('name')\n",
    "num_promoters = len(data_df)\n",
    "print('Number of promoters assayed: %d'%num_promoters)\n",
    "\n",
    "# Total number of outliers\n",
    "num_outliers = sum(data_df['outlier']==True)\n",
    "print('Number of outliers: %d'%num_outliers)"
   ]
  },
  {
   "cell_type": "code",
   "execution_count": 2,
   "metadata": {},
   "outputs": [
    {
     "name": "stdout",
     "output_type": "stream",
     "text": [
      "1 kBT = 0.62 kcal/mol\n",
      "1 kcal/mol = 1.62 kBT\n"
     ]
    }
   ],
   "source": [
    "# kBT to kcal/mol conversion\n",
    "kB_in_J_per_K = 1.3806E-23\n",
    "T_in_K = 310.15\n",
    "kcal_per_J = 1/4184\n",
    "per_mol = 6.022E23\n",
    "\n",
    "kBT_in_kcal_per_mol = kB_in_J_per_K * T_in_K * kcal_per_J * per_mol\n",
    "print('1 kBT = %.2f kcal/mol'%kBT_in_kcal_per_mol)\n",
    "\n",
    "kcal_per_mol_in_kBT = 1/kBT_in_kcal_per_mol\n",
    "print('1 kcal/mol = %.2f kBT'%kcal_per_mol_in_kBT)"
   ]
  },
  {
   "cell_type": "code",
   "execution_count": 3,
   "metadata": {},
   "outputs": [
    {
     "name": "stdout",
     "output_type": "stream",
     "text": [
      "dH = 1.9 kcal/mol\n"
     ]
    }
   ],
   "source": [
    "# Strenght of a typical hydrogen bond in water\n",
    "# Markovitch & Agmon, 2007, J Phys Chem A,\n",
    "# p. 2255, Discussion, 1st line: dH = 7.9 kJ/mol \n",
    "# Note that this is the \"effective\" strength of H-bonds in water\n",
    "# I.e., water acts as though all H-bonds have this strength\n",
    "# The actual strength of the individual bonds that are formed can vary a lot, as this paper details.\n",
    "dH_in_kJ_per_mol = 7.9\n",
    "kcal_per_kJ = 1/4.184\n",
    "dH_in_kcal_per_mol = dH_in_kJ_per_mol * kcal_per_kJ\n",
    "\n",
    "print('dH = %.1f kcal/mol'%dH_in_kcal_per_mol)"
   ]
  },
  {
   "cell_type": "code",
   "execution_count": 4,
   "metadata": {},
   "outputs": [
    {
     "name": "stdout",
     "output_type": "stream",
     "text": [
      "t_sat = 13.8 +- 6.6 per min\n"
     ]
    }
   ],
   "source": [
    "# Maximal transcription rate per second\n",
    "# From So et al (Golding Lab) 2011 Nat Genetics. \n",
    "# p. 557, second from last pargraph: kTX = 0.23 ± 0.11 per second \n",
    "t_sat_in_per_sec = 0.23\n",
    "t_sat_in_per_min = t_sat_in_per_sec*60\n",
    "\n",
    "dt_sat_in_per_sec = 0.11\n",
    "dt_sat_in_per_min = dt_sat_in_per_sec*60\n",
    "\n",
    "print('t_sat = %.1f +- %.1f per min'%(t_sat_in_per_min, dt_sat_in_per_min))"
   ]
  },
  {
   "cell_type": "code",
   "execution_count": 5,
   "metadata": {},
   "outputs": [
    {
     "name": "stdout",
     "output_type": "stream",
     "text": [
      "Estimated number of CRP-DNA H-bonds on a consensus site: 38\n"
     ]
    }
   ],
   "source": [
    "# Approximate number of hydrogen bonds formed by CRP-DNA binding\n",
    "# Parkinson et al (Berman Lab) 1996 JMB\n",
    "# Table 2:\n",
    "# 19 Hydrogen bonds formed in half-Complex A\n",
    "# 12 Hydrogen bonds formed in half-Complex B\n",
    "# However, the second paragraph of the discussion says that \n",
    "# Complex B is likely distorted by the crystal packing environement, and that one should view Complex A\n",
    "# As the more accurate half-complex\n",
    "num_complex_A_hbonds = 19\n",
    "num_hbonds = 2*num_complex_A_hbonds\n",
    "print('Estimated number of CRP-DNA H-bonds on a consensus site: %d'%num_hbonds)"
   ]
  },
  {
   "cell_type": "code",
   "execution_count": 6,
   "metadata": {},
   "outputs": [
    {
     "name": "stdout",
     "output_type": "stream",
     "text": [
      "CRP dimer concentration in cells: 1.7e-06\n",
      "Estimated CRP binding factor: 1.2e+05\n",
      "Estimated CRP dG: -7.2\n"
     ]
    }
   ],
   "source": [
    "# Strenght of CRP-DNA binding\n",
    "# Gunasekera, Ebright, and Ebright, 1992, JBC\n",
    "# Table I, ICAP row\n",
    "# K = 7.0 +- 0.3 x 10^10 M^-1\n",
    "# -dG = 14.64 +- 0.02 kcal/mol\n",
    "# But Yikes! They use dG = -RT log(K)! \n",
    "# So the absolute value of dG measurements cannot be taken seriously. \n",
    "# But differences, i.e. ddG measurements, can be.\n",
    "K_in_per_M = 7.0E10\n",
    "\n",
    "# But K can. Hm... how many CRP molecules are inside of E. coli? \n",
    "\n",
    "# Schmidt et al., 2016, Nat. Biotech. 2016\n",
    "# Supplemental Tables (a large Excel Sheet)\n",
    "# Table S6 row 344 (search for CRP works)\n",
    "# CRP monomer copy number = 2048\n",
    "# Use 10^3 dimers per cell\n",
    "dimers_per_cell = 1E3\n",
    "dimers_per_mol = 6.022E23\n",
    "\n",
    "# Milo & Phillips, Cell biology by the number, 2016\n",
    "# E. coli cell volume: 1 uM^3 = 1 fL = 10^{-15} L\n",
    "cell_vol_in_L = 1E-15\n",
    "\n",
    "# Compute CRP dimer concentration\n",
    "dimer_conc_in_M =  dimers_per_cell*(1/cell_vol_in_L)*(1/dimers_per_mol)\n",
    "print('CRP dimer concentration in cells: %.1e'%dimer_conc_in_M)\n",
    "\n",
    "# Estimate CRP binding factor\n",
    "F = dimer_conc_in_M * K_in_per_M\n",
    "dG = -kBT_in_kcal_per_mol*np.log(F)\n",
    "print('Estimated CRP binding factor: %.1e'%F)\n",
    "print('Estimated CRP dG: %.1f'%dG)\n",
    "\n",
    "# This is way off. But note that "
   ]
  },
  {
   "cell_type": "code",
   "execution_count": null,
   "metadata": {
    "collapsed": true
   },
   "outputs": [],
   "source": []
  }
 ],
 "metadata": {
  "kernelspec": {
   "display_name": "anaconda_kernel",
   "language": "python",
   "name": "anaconda_kernel"
  },
  "language_info": {
   "codemirror_mode": {
    "name": "ipython",
    "version": 3
   },
   "file_extension": ".py",
   "mimetype": "text/x-python",
   "name": "python",
   "nbconvert_exporter": "python",
   "pygments_lexer": "ipython3",
   "version": "3.6.3"
  }
 },
 "nbformat": 4,
 "nbformat_minor": 2
}
