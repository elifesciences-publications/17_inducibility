{
 "cells": [
  {
   "cell_type": "code",
   "execution_count": 1,
   "metadata": {
    "code_folding": [],
    "collapsed": true
   },
   "outputs": [],
   "source": [
    "# Main imports\n",
    "import numpy as np\n",
    "import pandas as pd\n",
    "\n",
    "# Import matplotlib and such\n",
    "import matplotlib as mpl\n",
    "import matplotlib.pyplot as plt\n",
    "import matplotlib.gridspec as gridspec\n",
    "%matplotlib inline\n",
    "plt.ion()\n",
    "\n",
    "# Import function for drawing thermodynamic models\n",
    "from helper_functions import thermodynamic_model"
   ]
  },
  {
   "cell_type": "code",
   "execution_count": 2,
   "metadata": {
    "collapsed": true
   },
   "outputs": [],
   "source": [
    "# Set global styles\n",
    "textwidth=5.5\n",
    "halfcolwidth=3\n",
    "fontsize=8\n",
    "titlesize=10\n",
    "panel_label_size=12\n",
    "legend_fontsize=7\n",
    "markersize=5\n",
    "mpl.rcParams['font.size'] = fontsize\n",
    "mpl.rcParams['text.usetex'] = False\n",
    "\n",
    "# Used to create color gradient across data points of different P values\n",
    "color_strong = np.array([.11, .69, .93])\n",
    "color_weak = np.array([1.00, .94, .21])\n",
    "\n",
    "# Conversion parameter\n",
    "kbt_to_kcal = 1/1.62"
   ]
  },
  {
   "cell_type": "code",
   "execution_count": 3,
   "metadata": {
    "collapsed": true
   },
   "outputs": [],
   "source": [
    "# Used to annotate a regime of the expression manifold\n",
    "def annotate_regime(x,y,n,color):\n",
    "    ax.plot(x,y,'o',\n",
    "            markersize=10,\n",
    "            markeredgecolor=color,\n",
    "            markerfacecolor='white',\n",
    "            markeredgewidth=.5)\n",
    "    ax.text(x,y,'%d'%n,\n",
    "            color=color,\n",
    "            horizontalalignment='center',\n",
    "            verticalalignment='center',\n",
    "            fontsize=8,\n",
    "            fontweight='regular')"
   ]
  },
  {
   "cell_type": "code",
   "execution_count": 4,
   "metadata": {},
   "outputs": [
    {
     "data": {
      "image/png": "[encoded data removed]",
      "text/plain": [
       "<matplotlib.figure.Figure at 0x112ae9a90>"
      ]
     },
     "metadata": {},
     "output_type": "display_data"
    }
   ],
   "source": [
    "### Figure 3: stabilization theory ###\n",
    "\n",
    "# Create figure\n",
    "fig, _ = plt.subplots(figsize=[textwidth,5])\n",
    "\n",
    "# Specify axes\n",
    "gs = gridspec.GridSpec(1, 1, top=.50, bottom=.10, left=.10, right=.45)\n",
    "ax = plt.subplot(gs[0,0])\n",
    "\n",
    "# P values for continuous curve\n",
    "Ps = np.logspace(-7,1,100)\n",
    "\n",
    "# P values for dots\n",
    "Pdots = np.logspace(-6,0,8)\n",
    "\n",
    "# Parameters for thermodynamic model\n",
    "t_sat=1\n",
    "alpha=300\n",
    "F=100\n",
    "beta=1\n",
    "t_bg=1E-4\n",
    "lim = np.array([1E-5,1E1])\n",
    "\n",
    "# Compute coordinates of expression manifold\n",
    "xs = thermodynamic_model(t_sat=t_sat, P=Ps, F=0, alpha=alpha, beta=beta, t_bg=t_bg)\n",
    "ys = thermodynamic_model(t_sat=t_sat, P=Ps, F=F, alpha=alpha, beta=beta, t_bg=t_bg)\n",
    "\n",
    "# Compute alpha' and beta'\n",
    "alpha_prime = (1+alpha*F)/(1+F)\n",
    "beta_prime = (1+alpha*beta*F)/(1+alpha*F)\n",
    "\n",
    "# Plot diagonal\n",
    "ax.loglog(lim,lim,':', color='k', alpha=.5, label='$t_+ = t_-$')\n",
    "\n",
    "# Plot maximal activation line\n",
    "ax.loglog(lim,alpha_prime*lim,'--',color='k', alpha=.5, label='$t_+ = \\\\alpha\\' t_-$')\n",
    "\n",
    "# Plot expression manifold and enpoints\n",
    "ax.loglog(xs,ys, linewidth=2, solid_capstyle='round', color='k', label='manifold')\n",
    "ax.loglog(t_sat,beta_prime*t_sat,markersize=4,marker='o',color='k')\n",
    "ax.loglog(t_bg,t_bg,markersize=4,marker='o',color='k')\n",
    "\n",
    "# Plot dots along expression manifold\n",
    "xdots = thermodynamic_model(t_sat=t_sat, P=Pdots, F=0, alpha=alpha, beta=beta, t_bg=t_bg)\n",
    "ydots = thermodynamic_model(t_sat=t_sat, P=Pdots, F=F, alpha=alpha, beta=beta, t_bg=t_bg)\n",
    "for i, P in enumerate(Pdots):\n",
    "    \n",
    "    # Define color of data point\n",
    "    f = 1 - i/len(Pdots-1)\n",
    "    color = f*np.array(color_weak) + (1-f)*np.array(color_strong)\n",
    "    \n",
    "    # Plot data point with specified color\n",
    "    ax.loglog(xdots[i], ydots[i], marker='o', color=color, alpha=1, markersize=6, \n",
    "              markeredgewidth=.5, markeredgecolor='k')\n",
    "\n",
    "# Annotate regimes of expression manifold\n",
    "t_mid = np.sqrt(t_bg*t_sat)\n",
    "annotate_regime(t_bg,t_bg/3,n=1,color='k')\n",
    "annotate_regime(t_bg/3,t_bg*10,n=2,color='k')\n",
    "annotate_regime(t_mid*2E-2,alpha_prime*t_mid*1.5E-1,n=3,color='k')\n",
    "annotate_regime(t_sat/10,t_sat*3,n=4,color='k')\n",
    "annotate_regime(t_sat*3,t_sat,n=5,color='k')\n",
    "\n",
    "# Annotate maximal activation level\n",
    "arrow_x = 1E-3\n",
    "arrow_ylo = arrow_x*1.5\n",
    "arrow_yhi = arrow_x*alpha_prime/1.5\n",
    "arrow_ymid = np.sqrt(arrow_ylo*arrow_yhi)\n",
    "ax.annotate('',\n",
    "            xy=(arrow_x, arrow_ylo), \n",
    "            xytext=(arrow_x, arrow_yhi),\n",
    "            arrowprops={'arrowstyle':'<->'})\n",
    "ax.text(arrow_x*1.5, arrow_ymid, \"$\\\\alpha'$\", horizontalalignment='left', verticalalignment='center')\n",
    "\n",
    "# Style x-axis\n",
    "ax.set_xticks([t_bg, t_sat])\n",
    "ax.set_xticklabels(['$t_{bg}$', '$t_{sat}$'])\n",
    "ax.set_xlabel(\"$t_-$ (log scale) $\\\\longrightarrow$\")\n",
    "ax.get_xaxis().set_tick_params(which='minor', size=0) \n",
    "\n",
    "# Style y-axis\n",
    "ax.set_yticks([t_bg, t_sat])\n",
    "ax.set_yticklabels(['$t_{bg}$', '$t_{sat}$'])\n",
    "ax.set_ylabel(\"$t_+$ (log scale) $\\\\longrightarrow$\")\n",
    "ax.get_yaxis().set_tick_params(which='minor', size=0)\n",
    "\n",
    "# Set limits and aspect\n",
    "ax.set_xlim(lim)\n",
    "ax.set_ylim(lim)\n",
    "ax.set_aspect('equal')\n",
    "ax.legend(fontsize=legend_fontsize)\n",
    "\n",
    "# Label panels\n",
    "plt.figtext(.01,.98,'(A)', fontsize=panel_label_size, horizontalalignment='left', \n",
    "            verticalalignment='top')\n",
    "plt.figtext(.45,.98,'(B)', fontsize=panel_label_size, horizontalalignment='left', \n",
    "            verticalalignment='top')\n",
    "plt.figtext(.01,.55,'(C)', fontsize=panel_label_size, horizontalalignment='left', \n",
    "            verticalalignment='top')\n",
    "plt.figtext(.50,.55,'(D)', fontsize=panel_label_size, horizontalalignment='left', \n",
    "            verticalalignment='top')\n",
    "\n",
    "# Save figure\n",
    "fig.savefig('../figures/plt_recruitment_theory.pdf', transparent=True)"
   ]
  },
  {
   "cell_type": "code",
   "execution_count": null,
   "metadata": {
    "collapsed": true
   },
   "outputs": [],
   "source": []
  }
 ],
 "metadata": {
  "kernelspec": {
   "display_name": "anaconda_kernel",
   "language": "python",
   "name": "anaconda_kernel"
  },
  "language_info": {
   "codemirror_mode": {
    "name": "ipython",
    "version": 3
   },
   "file_extension": ".py",
   "mimetype": "text/x-python",
   "name": "python",
   "nbconvert_exporter": "python",
   "pygments_lexer": "ipython3",
   "version": "3.6.3"
  }
 },
 "nbformat": 4,
 "nbformat_minor": 1
}
